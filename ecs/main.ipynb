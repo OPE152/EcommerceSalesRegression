{
 "cells": [
  {
   "cell_type": "code",
   "execution_count": 61,
   "id": "4129d908",
   "metadata": {},
   "outputs": [],
   "source": [
    "import numpy as np\n",
    "import pandas as pd\n",
    "import matplotlib.pyplot as plt\n",
    "import seaborn as sns\n",
    "from sklearn.linear_model import LinearRegression, Lasso, Ridge\n",
    "from sklearn.tree import DecisionTreeRegressor\n",
    "from sklearn.ensemble import RandomForestClassifier\n",
    "from sklearn.compose import ColumnTransformer\n",
    "from sklearn.preprocessing import StandardScaler\n",
    "from sklearn.model_selection import train_test_split, GridSearchCV\n",
    "from sklearn.metrics import mean_absolute_error, mean_squared_error, r2_score\n",
    "from sklearn.pipeline import Pipeline\n",
    "import os\n",
    "from pathlib import Path\n",
    "import warnings"
   ]
  },
  {
   "cell_type": "code",
   "execution_count": 15,
   "id": "b45fbdb0",
   "metadata": {},
   "outputs": [],
   "source": [
    "file_path = r\"C:\\Users\\HP\\Documents\\Ecommerce_Sales_Prediction_Dataset.csv\""
   ]
  },
  {
   "cell_type": "code",
   "execution_count": 16,
   "id": "7af4bec4",
   "metadata": {},
   "outputs": [
    {
     "data": {
      "text/html": [
       "<div>\n",
       "<style scoped>\n",
       "    .dataframe tbody tr th:only-of-type {\n",
       "        vertical-align: middle;\n",
       "    }\n",
       "\n",
       "    .dataframe tbody tr th {\n",
       "        vertical-align: top;\n",
       "    }\n",
       "\n",
       "    .dataframe thead th {\n",
       "        text-align: right;\n",
       "    }\n",
       "</style>\n",
       "<table border=\"1\" class=\"dataframe\">\n",
       "  <thead>\n",
       "    <tr style=\"text-align: right;\">\n",
       "      <th></th>\n",
       "      <th>Date</th>\n",
       "      <th>Product_Category</th>\n",
       "      <th>Price</th>\n",
       "      <th>Discount</th>\n",
       "      <th>Customer_Segment</th>\n",
       "      <th>Marketing_Spend</th>\n",
       "      <th>Units_Sold</th>\n",
       "    </tr>\n",
       "  </thead>\n",
       "  <tbody>\n",
       "    <tr>\n",
       "      <th>0</th>\n",
       "      <td>01-01-2023</td>\n",
       "      <td>Sports</td>\n",
       "      <td>932.80</td>\n",
       "      <td>35.82</td>\n",
       "      <td>Occasional</td>\n",
       "      <td>6780.38</td>\n",
       "      <td>32</td>\n",
       "    </tr>\n",
       "    <tr>\n",
       "      <th>1</th>\n",
       "      <td>02-01-2023</td>\n",
       "      <td>Toys</td>\n",
       "      <td>569.48</td>\n",
       "      <td>3.60</td>\n",
       "      <td>Premium</td>\n",
       "      <td>6807.56</td>\n",
       "      <td>16</td>\n",
       "    </tr>\n",
       "    <tr>\n",
       "      <th>2</th>\n",
       "      <td>03-01-2023</td>\n",
       "      <td>Home Decor</td>\n",
       "      <td>699.68</td>\n",
       "      <td>3.56</td>\n",
       "      <td>Premium</td>\n",
       "      <td>3793.91</td>\n",
       "      <td>27</td>\n",
       "    </tr>\n",
       "    <tr>\n",
       "      <th>3</th>\n",
       "      <td>04-01-2023</td>\n",
       "      <td>Toys</td>\n",
       "      <td>923.27</td>\n",
       "      <td>0.61</td>\n",
       "      <td>Premium</td>\n",
       "      <td>9422.75</td>\n",
       "      <td>29</td>\n",
       "    </tr>\n",
       "    <tr>\n",
       "      <th>4</th>\n",
       "      <td>05-01-2023</td>\n",
       "      <td>Toys</td>\n",
       "      <td>710.17</td>\n",
       "      <td>47.83</td>\n",
       "      <td>Premium</td>\n",
       "      <td>1756.83</td>\n",
       "      <td>17</td>\n",
       "    </tr>\n",
       "  </tbody>\n",
       "</table>\n",
       "</div>"
      ],
      "text/plain": [
       "         Date Product_Category   Price  Discount Customer_Segment  \\\n",
       "0  01-01-2023           Sports  932.80     35.82       Occasional   \n",
       "1  02-01-2023             Toys  569.48      3.60          Premium   \n",
       "2  03-01-2023       Home Decor  699.68      3.56          Premium   \n",
       "3  04-01-2023             Toys  923.27      0.61          Premium   \n",
       "4  05-01-2023             Toys  710.17     47.83          Premium   \n",
       "\n",
       "   Marketing_Spend  Units_Sold  \n",
       "0          6780.38          32  \n",
       "1          6807.56          16  \n",
       "2          3793.91          27  \n",
       "3          9422.75          29  \n",
       "4          1756.83          17  "
      ]
     },
     "execution_count": 16,
     "metadata": {},
     "output_type": "execute_result"
    }
   ],
   "source": [
    "df = pd.read_csv(file_path)\n",
    "df.head()"
   ]
  },
  {
   "cell_type": "code",
   "execution_count": 30,
   "id": "2dffdf65",
   "metadata": {},
   "outputs": [],
   "source": [
    "my_path = Path(\"data\")\n",
    "my_path.mkdir(parents=True, exist_ok=True)\n",
    "\n",
    "output_file = my_path / \"ecommerce_output.csv\"\n",
    "df.to_csv(output_file, index=False)"
   ]
  },
  {
   "cell_type": "code",
   "execution_count": 62,
   "id": "f55eb5c7",
   "metadata": {},
   "outputs": [
    {
     "name": "stdout",
     "output_type": "stream",
     "text": [
      "         Date Product_Category   Price  Discount Customer_Segment  \\\n",
      "0  01-01-2023           Sports  932.80     35.82       Occasional   \n",
      "1  02-01-2023             Toys  569.48      3.60          Premium   \n",
      "2  03-01-2023       Home Decor  699.68      3.56          Premium   \n",
      "3  04-01-2023             Toys  923.27      0.61          Premium   \n",
      "4  05-01-2023             Toys  710.17     47.83          Premium   \n",
      "\n",
      "   Marketing_Spend  Units_Sold  \n",
      "0          6780.38          32  \n",
      "1          6807.56          16  \n",
      "2          3793.91          27  \n",
      "3          9422.75          29  \n",
      "4          1756.83          17  \n"
     ]
    }
   ],
   "source": [
    "df = pd.read_csv(\"data/ecommerce_output.csv\")\n",
    "print(df.head())"
   ]
  },
  {
   "cell_type": "markdown",
   "id": "f48e5171",
   "metadata": {},
   "source": [
    "## Exploratory Data Analysis"
   ]
  },
  {
   "cell_type": "code",
   "execution_count": 33,
   "id": "ede7ab9e",
   "metadata": {},
   "outputs": [
    {
     "name": "stdout",
     "output_type": "stream",
     "text": [
      "<class 'pandas.core.frame.DataFrame'>\n",
      "RangeIndex: 1000 entries, 0 to 999\n",
      "Data columns (total 7 columns):\n",
      " #   Column            Non-Null Count  Dtype  \n",
      "---  ------            --------------  -----  \n",
      " 0   Date              1000 non-null   object \n",
      " 1   Product_Category  1000 non-null   object \n",
      " 2   Price             1000 non-null   float64\n",
      " 3   Discount          1000 non-null   float64\n",
      " 4   Customer_Segment  1000 non-null   object \n",
      " 5   Marketing_Spend   1000 non-null   float64\n",
      " 6   Units_Sold        1000 non-null   int64  \n",
      "dtypes: float64(3), int64(1), object(3)\n",
      "memory usage: 54.8+ KB\n"
     ]
    }
   ],
   "source": [
    "df.info()"
   ]
  },
  {
   "cell_type": "code",
   "execution_count": 63,
   "id": "389bb9a6",
   "metadata": {},
   "outputs": [
    {
     "data": {
      "text/plain": [
       "Date                0\n",
       "Product_Category    0\n",
       "Price               0\n",
       "Discount            0\n",
       "Customer_Segment    0\n",
       "Marketing_Spend     0\n",
       "Units_Sold          0\n",
       "dtype: int64"
      ]
     },
     "execution_count": 63,
     "metadata": {},
     "output_type": "execute_result"
    }
   ],
   "source": [
    "df.isnull().sum()"
   ]
  },
  {
   "cell_type": "code",
   "execution_count": 35,
   "id": "ab3d85fe",
   "metadata": {},
   "outputs": [
    {
     "data": {
      "text/html": [
       "<div>\n",
       "<style scoped>\n",
       "    .dataframe tbody tr th:only-of-type {\n",
       "        vertical-align: middle;\n",
       "    }\n",
       "\n",
       "    .dataframe tbody tr th {\n",
       "        vertical-align: top;\n",
       "    }\n",
       "\n",
       "    .dataframe thead th {\n",
       "        text-align: right;\n",
       "    }\n",
       "</style>\n",
       "<table border=\"1\" class=\"dataframe\">\n",
       "  <thead>\n",
       "    <tr style=\"text-align: right;\">\n",
       "      <th></th>\n",
       "      <th>Price</th>\n",
       "      <th>Discount</th>\n",
       "      <th>Marketing_Spend</th>\n",
       "      <th>Units_Sold</th>\n",
       "    </tr>\n",
       "  </thead>\n",
       "  <tbody>\n",
       "    <tr>\n",
       "      <th>count</th>\n",
       "      <td>1000.000000</td>\n",
       "      <td>1000.000000</td>\n",
       "      <td>1000.000000</td>\n",
       "      <td>1000.000000</td>\n",
       "    </tr>\n",
       "    <tr>\n",
       "      <th>mean</th>\n",
       "      <td>505.241920</td>\n",
       "      <td>24.919750</td>\n",
       "      <td>4912.830240</td>\n",
       "      <td>29.631000</td>\n",
       "    </tr>\n",
       "    <tr>\n",
       "      <th>std</th>\n",
       "      <td>289.791248</td>\n",
       "      <td>14.439951</td>\n",
       "      <td>2840.602656</td>\n",
       "      <td>7.267989</td>\n",
       "    </tr>\n",
       "    <tr>\n",
       "      <th>min</th>\n",
       "      <td>14.590000</td>\n",
       "      <td>0.010000</td>\n",
       "      <td>100.300000</td>\n",
       "      <td>5.000000</td>\n",
       "    </tr>\n",
       "    <tr>\n",
       "      <th>25%</th>\n",
       "      <td>243.342500</td>\n",
       "      <td>12.995000</td>\n",
       "      <td>2413.020000</td>\n",
       "      <td>24.000000</td>\n",
       "    </tr>\n",
       "    <tr>\n",
       "      <th>50%</th>\n",
       "      <td>509.310000</td>\n",
       "      <td>24.965000</td>\n",
       "      <td>4837.245000</td>\n",
       "      <td>30.000000</td>\n",
       "    </tr>\n",
       "    <tr>\n",
       "      <th>75%</th>\n",
       "      <td>747.592500</td>\n",
       "      <td>37.562500</td>\n",
       "      <td>7319.675000</td>\n",
       "      <td>34.000000</td>\n",
       "    </tr>\n",
       "    <tr>\n",
       "      <th>max</th>\n",
       "      <td>999.420000</td>\n",
       "      <td>49.920000</td>\n",
       "      <td>9995.620000</td>\n",
       "      <td>57.000000</td>\n",
       "    </tr>\n",
       "  </tbody>\n",
       "</table>\n",
       "</div>"
      ],
      "text/plain": [
       "             Price     Discount  Marketing_Spend   Units_Sold\n",
       "count  1000.000000  1000.000000      1000.000000  1000.000000\n",
       "mean    505.241920    24.919750      4912.830240    29.631000\n",
       "std     289.791248    14.439951      2840.602656     7.267989\n",
       "min      14.590000     0.010000       100.300000     5.000000\n",
       "25%     243.342500    12.995000      2413.020000    24.000000\n",
       "50%     509.310000    24.965000      4837.245000    30.000000\n",
       "75%     747.592500    37.562500      7319.675000    34.000000\n",
       "max     999.420000    49.920000      9995.620000    57.000000"
      ]
     },
     "execution_count": 35,
     "metadata": {},
     "output_type": "execute_result"
    }
   ],
   "source": [
    "df.describe()"
   ]
  },
  {
   "cell_type": "markdown",
   "id": "4939d2ca",
   "metadata": {},
   "source": [
    "Convert 'Date' column to datetime"
   ]
  },
  {
   "cell_type": "code",
   "execution_count": 37,
   "id": "5a3d80d5",
   "metadata": {},
   "outputs": [
    {
     "data": {
      "text/plain": [
       "dtype('<M8[ns]')"
      ]
     },
     "execution_count": 37,
     "metadata": {},
     "output_type": "execute_result"
    }
   ],
   "source": [
    "df['Date'] = pd.to_datetime(df['Date'], format='%d-%m-%Y')\n",
    "df['Date'].dtype"
   ]
  },
  {
   "cell_type": "code",
   "execution_count": 44,
   "id": "29f7f3e7",
   "metadata": {},
   "outputs": [],
   "source": [
    "df['year'] = [date.year for date in df['Date']]\n",
    "df['month'] = [date.month for date in df['Date']]\n",
    "df['day'] = [date.day for date in df['Date']]"
   ]
  },
  {
   "cell_type": "code",
   "execution_count": 45,
   "id": "083b597e",
   "metadata": {},
   "outputs": [
    {
     "data": {
      "text/html": [
       "<div>\n",
       "<style scoped>\n",
       "    .dataframe tbody tr th:only-of-type {\n",
       "        vertical-align: middle;\n",
       "    }\n",
       "\n",
       "    .dataframe tbody tr th {\n",
       "        vertical-align: top;\n",
       "    }\n",
       "\n",
       "    .dataframe thead th {\n",
       "        text-align: right;\n",
       "    }\n",
       "</style>\n",
       "<table border=\"1\" class=\"dataframe\">\n",
       "  <thead>\n",
       "    <tr style=\"text-align: right;\">\n",
       "      <th></th>\n",
       "      <th>Date</th>\n",
       "      <th>Product_Category</th>\n",
       "      <th>Price</th>\n",
       "      <th>Discount</th>\n",
       "      <th>Customer_Segment</th>\n",
       "      <th>Marketing_Spend</th>\n",
       "      <th>Units_Sold</th>\n",
       "      <th>Revenue</th>\n",
       "      <th>year</th>\n",
       "      <th>month</th>\n",
       "      <th>day</th>\n",
       "    </tr>\n",
       "  </thead>\n",
       "  <tbody>\n",
       "    <tr>\n",
       "      <th>0</th>\n",
       "      <td>2023-01-01</td>\n",
       "      <td>Sports</td>\n",
       "      <td>932.80</td>\n",
       "      <td>35.82</td>\n",
       "      <td>Occasional</td>\n",
       "      <td>6780.38</td>\n",
       "      <td>32</td>\n",
       "      <td>29850.0</td>\n",
       "      <td>2023</td>\n",
       "      <td>1</td>\n",
       "      <td>1</td>\n",
       "    </tr>\n",
       "    <tr>\n",
       "      <th>1</th>\n",
       "      <td>2023-01-02</td>\n",
       "      <td>Toys</td>\n",
       "      <td>569.48</td>\n",
       "      <td>3.60</td>\n",
       "      <td>Premium</td>\n",
       "      <td>6807.56</td>\n",
       "      <td>16</td>\n",
       "      <td>9112.0</td>\n",
       "      <td>2023</td>\n",
       "      <td>1</td>\n",
       "      <td>2</td>\n",
       "    </tr>\n",
       "    <tr>\n",
       "      <th>2</th>\n",
       "      <td>2023-01-03</td>\n",
       "      <td>Home Decor</td>\n",
       "      <td>699.68</td>\n",
       "      <td>3.56</td>\n",
       "      <td>Premium</td>\n",
       "      <td>3793.91</td>\n",
       "      <td>27</td>\n",
       "      <td>18891.0</td>\n",
       "      <td>2023</td>\n",
       "      <td>1</td>\n",
       "      <td>3</td>\n",
       "    </tr>\n",
       "    <tr>\n",
       "      <th>3</th>\n",
       "      <td>2023-01-04</td>\n",
       "      <td>Toys</td>\n",
       "      <td>923.27</td>\n",
       "      <td>0.61</td>\n",
       "      <td>Premium</td>\n",
       "      <td>9422.75</td>\n",
       "      <td>29</td>\n",
       "      <td>26775.0</td>\n",
       "      <td>2023</td>\n",
       "      <td>1</td>\n",
       "      <td>4</td>\n",
       "    </tr>\n",
       "    <tr>\n",
       "      <th>4</th>\n",
       "      <td>2023-01-05</td>\n",
       "      <td>Toys</td>\n",
       "      <td>710.17</td>\n",
       "      <td>47.83</td>\n",
       "      <td>Premium</td>\n",
       "      <td>1756.83</td>\n",
       "      <td>17</td>\n",
       "      <td>12073.0</td>\n",
       "      <td>2023</td>\n",
       "      <td>1</td>\n",
       "      <td>5</td>\n",
       "    </tr>\n",
       "  </tbody>\n",
       "</table>\n",
       "</div>"
      ],
      "text/plain": [
       "        Date Product_Category   Price  Discount Customer_Segment  \\\n",
       "0 2023-01-01           Sports  932.80     35.82       Occasional   \n",
       "1 2023-01-02             Toys  569.48      3.60          Premium   \n",
       "2 2023-01-03       Home Decor  699.68      3.56          Premium   \n",
       "3 2023-01-04             Toys  923.27      0.61          Premium   \n",
       "4 2023-01-05             Toys  710.17     47.83          Premium   \n",
       "\n",
       "   Marketing_Spend  Units_Sold  Revenue  year  month  day  \n",
       "0          6780.38          32  29850.0  2023      1    1  \n",
       "1          6807.56          16   9112.0  2023      1    2  \n",
       "2          3793.91          27  18891.0  2023      1    3  \n",
       "3          9422.75          29  26775.0  2023      1    4  \n",
       "4          1756.83          17  12073.0  2023      1    5  "
      ]
     },
     "execution_count": 45,
     "metadata": {},
     "output_type": "execute_result"
    }
   ],
   "source": [
    "df.head()"
   ]
  },
  {
   "cell_type": "code",
   "execution_count": 64,
   "id": "43a70a6a",
   "metadata": {},
   "outputs": [
    {
     "data": {
      "text/plain": [
       "np.int64(0)"
      ]
     },
     "execution_count": 64,
     "metadata": {},
     "output_type": "execute_result"
    }
   ],
   "source": [
    "df.duplicated().sum()"
   ]
  },
  {
   "cell_type": "code",
   "execution_count": 65,
   "id": "1ae37648",
   "metadata": {},
   "outputs": [
    {
     "data": {
      "text/plain": [
       "array(['Occasional', 'Premium', 'Regular'], dtype=object)"
      ]
     },
     "execution_count": 65,
     "metadata": {},
     "output_type": "execute_result"
    }
   ],
   "source": [
    "df['Customer_Segment'].unique()"
   ]
  },
  {
   "cell_type": "code",
   "execution_count": 41,
   "id": "6c86530c",
   "metadata": {},
   "outputs": [
    {
     "data": {
      "text/html": [
       "<div>\n",
       "<style scoped>\n",
       "    .dataframe tbody tr th:only-of-type {\n",
       "        vertical-align: middle;\n",
       "    }\n",
       "\n",
       "    .dataframe tbody tr th {\n",
       "        vertical-align: top;\n",
       "    }\n",
       "\n",
       "    .dataframe thead th {\n",
       "        text-align: right;\n",
       "    }\n",
       "</style>\n",
       "<table border=\"1\" class=\"dataframe\">\n",
       "  <thead>\n",
       "    <tr style=\"text-align: right;\">\n",
       "      <th></th>\n",
       "      <th>Date</th>\n",
       "      <th>Product_Category</th>\n",
       "      <th>Price</th>\n",
       "      <th>Discount</th>\n",
       "      <th>Customer_Segment</th>\n",
       "      <th>Marketing_Spend</th>\n",
       "      <th>Units_Sold</th>\n",
       "      <th>Revenue</th>\n",
       "    </tr>\n",
       "  </thead>\n",
       "  <tbody>\n",
       "    <tr>\n",
       "      <th>0</th>\n",
       "      <td>2023-01-01</td>\n",
       "      <td>Sports</td>\n",
       "      <td>932.80</td>\n",
       "      <td>35.82</td>\n",
       "      <td>Occasional</td>\n",
       "      <td>6780.38</td>\n",
       "      <td>32</td>\n",
       "      <td>29850.0</td>\n",
       "    </tr>\n",
       "    <tr>\n",
       "      <th>1</th>\n",
       "      <td>2023-01-02</td>\n",
       "      <td>Toys</td>\n",
       "      <td>569.48</td>\n",
       "      <td>3.60</td>\n",
       "      <td>Premium</td>\n",
       "      <td>6807.56</td>\n",
       "      <td>16</td>\n",
       "      <td>9112.0</td>\n",
       "    </tr>\n",
       "    <tr>\n",
       "      <th>2</th>\n",
       "      <td>2023-01-03</td>\n",
       "      <td>Home Decor</td>\n",
       "      <td>699.68</td>\n",
       "      <td>3.56</td>\n",
       "      <td>Premium</td>\n",
       "      <td>3793.91</td>\n",
       "      <td>27</td>\n",
       "      <td>18891.0</td>\n",
       "    </tr>\n",
       "    <tr>\n",
       "      <th>3</th>\n",
       "      <td>2023-01-04</td>\n",
       "      <td>Toys</td>\n",
       "      <td>923.27</td>\n",
       "      <td>0.61</td>\n",
       "      <td>Premium</td>\n",
       "      <td>9422.75</td>\n",
       "      <td>29</td>\n",
       "      <td>26775.0</td>\n",
       "    </tr>\n",
       "    <tr>\n",
       "      <th>4</th>\n",
       "      <td>2023-01-05</td>\n",
       "      <td>Toys</td>\n",
       "      <td>710.17</td>\n",
       "      <td>47.83</td>\n",
       "      <td>Premium</td>\n",
       "      <td>1756.83</td>\n",
       "      <td>17</td>\n",
       "      <td>12073.0</td>\n",
       "    </tr>\n",
       "    <tr>\n",
       "      <th>...</th>\n",
       "      <td>...</td>\n",
       "      <td>...</td>\n",
       "      <td>...</td>\n",
       "      <td>...</td>\n",
       "      <td>...</td>\n",
       "      <td>...</td>\n",
       "      <td>...</td>\n",
       "      <td>...</td>\n",
       "    </tr>\n",
       "    <tr>\n",
       "      <th>995</th>\n",
       "      <td>2025-09-22</td>\n",
       "      <td>Fashion</td>\n",
       "      <td>740.06</td>\n",
       "      <td>49.06</td>\n",
       "      <td>Regular</td>\n",
       "      <td>1890.83</td>\n",
       "      <td>34</td>\n",
       "      <td>25162.0</td>\n",
       "    </tr>\n",
       "    <tr>\n",
       "      <th>996</th>\n",
       "      <td>2025-09-23</td>\n",
       "      <td>Electronics</td>\n",
       "      <td>517.10</td>\n",
       "      <td>28.48</td>\n",
       "      <td>Premium</td>\n",
       "      <td>8011.66</td>\n",
       "      <td>21</td>\n",
       "      <td>10859.0</td>\n",
       "    </tr>\n",
       "    <tr>\n",
       "      <th>997</th>\n",
       "      <td>2025-09-24</td>\n",
       "      <td>Electronics</td>\n",
       "      <td>683.43</td>\n",
       "      <td>12.98</td>\n",
       "      <td>Occasional</td>\n",
       "      <td>3408.51</td>\n",
       "      <td>19</td>\n",
       "      <td>12985.0</td>\n",
       "    </tr>\n",
       "    <tr>\n",
       "      <th>998</th>\n",
       "      <td>2025-09-25</td>\n",
       "      <td>Sports</td>\n",
       "      <td>51.26</td>\n",
       "      <td>21.85</td>\n",
       "      <td>Occasional</td>\n",
       "      <td>7335.62</td>\n",
       "      <td>26</td>\n",
       "      <td>1333.0</td>\n",
       "    </tr>\n",
       "    <tr>\n",
       "      <th>999</th>\n",
       "      <td>2025-09-26</td>\n",
       "      <td>Home Decor</td>\n",
       "      <td>93.94</td>\n",
       "      <td>29.68</td>\n",
       "      <td>Regular</td>\n",
       "      <td>4258.11</td>\n",
       "      <td>39</td>\n",
       "      <td>3664.0</td>\n",
       "    </tr>\n",
       "  </tbody>\n",
       "</table>\n",
       "<p>1000 rows × 8 columns</p>\n",
       "</div>"
      ],
      "text/plain": [
       "          Date Product_Category   Price  Discount Customer_Segment  \\\n",
       "0   2023-01-01           Sports  932.80     35.82       Occasional   \n",
       "1   2023-01-02             Toys  569.48      3.60          Premium   \n",
       "2   2023-01-03       Home Decor  699.68      3.56          Premium   \n",
       "3   2023-01-04             Toys  923.27      0.61          Premium   \n",
       "4   2023-01-05             Toys  710.17     47.83          Premium   \n",
       "..         ...              ...     ...       ...              ...   \n",
       "995 2025-09-22          Fashion  740.06     49.06          Regular   \n",
       "996 2025-09-23      Electronics  517.10     28.48          Premium   \n",
       "997 2025-09-24      Electronics  683.43     12.98       Occasional   \n",
       "998 2025-09-25           Sports   51.26     21.85       Occasional   \n",
       "999 2025-09-26       Home Decor   93.94     29.68          Regular   \n",
       "\n",
       "     Marketing_Spend  Units_Sold  Revenue  \n",
       "0            6780.38          32  29850.0  \n",
       "1            6807.56          16   9112.0  \n",
       "2            3793.91          27  18891.0  \n",
       "3            9422.75          29  26775.0  \n",
       "4            1756.83          17  12073.0  \n",
       "..               ...         ...      ...  \n",
       "995          1890.83          34  25162.0  \n",
       "996          8011.66          21  10859.0  \n",
       "997          3408.51          19  12985.0  \n",
       "998          7335.62          26   1333.0  \n",
       "999          4258.11          39   3664.0  \n",
       "\n",
       "[1000 rows x 8 columns]"
      ]
     },
     "execution_count": 41,
     "metadata": {},
     "output_type": "execute_result"
    }
   ],
   "source": [
    "df['Revenue']=round(df['Price']*df['Units_Sold'])\n",
    "df"
   ]
  },
  {
   "cell_type": "markdown",
   "id": "4d9dd7f6",
   "metadata": {},
   "source": [
    "Revenue By Year"
   ]
  },
  {
   "cell_type": "code",
   "execution_count": 46,
   "id": "aca977f3",
   "metadata": {},
   "outputs": [
    {
     "data": {
      "text/plain": [
       "year\n",
       "2023    5475564.0\n",
       "2024    5552401.0\n",
       "2025    3974525.0\n",
       "Name: Revenue, dtype: float64"
      ]
     },
     "execution_count": 46,
     "metadata": {},
     "output_type": "execute_result"
    }
   ],
   "source": [
    "df_year = df.groupby('year')['Revenue'].sum()\n",
    "df_year"
   ]
  },
  {
   "cell_type": "markdown",
   "id": "d3327b7c",
   "metadata": {},
   "source": [
    "Data visualization"
   ]
  },
  {
   "cell_type": "code",
   "execution_count": 66,
   "id": "85ba3690",
   "metadata": {},
   "outputs": [
    {
     "data": {
      "image/png": "[encoded data removed]",
      "text/plain": [
       "<Figure size 640x480 with 2 Axes>"
      ]
     },
     "metadata": {},
     "output_type": "display_data"
    }
   ],
   "source": [
    "# Correlation heatmap\n",
    "numeric_df = df.select_dtypes(include=[np.number])\n",
    "corr = numeric_df.corr()\n",
    "sns.heatmap(corr, annot=True, cmap='coolwarm')\n",
    "plt.title('Correlation Heatmap')\n",
    "plt.show()"
   ]
  },
  {
   "cell_type": "code",
   "execution_count": 60,
   "id": "38d237a7",
   "metadata": {},
   "outputs": [
    {
     "data": {
      "image/png": "[encoded data removed]",
      "text/plain": [
       "<Figure size 640x480 with 1 Axes>"
      ]
     },
     "metadata": {},
     "output_type": "display_data"
    }
   ],
   "source": [
    "sns.histplot(df['Units_Sold'], bins=15, kde=True)\n",
    "plt.title(\"Units_Sold distribution\")\n",
    "plt.show()"
   ]
  },
  {
   "cell_type": "code",
   "execution_count": 67,
   "id": "9e10d76e",
   "metadata": {},
   "outputs": [
    {
     "data": {
      "image/png": "[encoded data removed]",
      "text/plain": [
       "<Figure size 500x500 with 1 Axes>"
      ]
     },
     "metadata": {},
     "output_type": "display_data"
    }
   ],
   "source": [
    "plt.figure(figsize=(5, 5))\n",
    "sns.histplot(df['Price'], kde=True, bins=30, color='skyblue')\n",
    "plt.title('Price Distribution', fontsize=16)\n",
    "plt.xlabel('Price', fontsize=12)\n",
    "plt.ylabel('Frequency', fontsize=12)\n",
    "plt.show()"
   ]
  },
  {
   "cell_type": "code",
   "execution_count": 73,
   "id": "ee2a33aa",
   "metadata": {},
   "outputs": [
    {
     "data": {
      "image/png": "[encoded data removed]",
      "text/plain": [
       "<Figure size 400x300 with 1 Axes>"
      ]
     },
     "metadata": {},
     "output_type": "display_data"
    }
   ],
   "source": [
    "plt.figure(figsize=(4, 3))\n",
    "sns.countplot(x='Customer_Segment', data=df, palette='Set2')\n",
    "plt.title('Customer Segment Distribution', fontsize=12)\n",
    "plt.xlabel('Customer Segment', fontsize=12)\n",
    "plt.ylabel('Count', fontsize=9)\n",
    "plt.show()\n",
    "warnings.filterwarnings('ignore')"
   ]
  },
  {
   "cell_type": "code",
   "execution_count": null,
   "id": "5472b90d",
   "metadata": {},
   "outputs": [],
   "source": []
  },
  {
   "cell_type": "code",
   "execution_count": null,
   "id": "1b8036a2",
   "metadata": {},
   "outputs": [],
   "source": []
  }
 ],
 "metadata": {
  "kernelspec": {
   "display_name": "Python 3",
   "language": "python",
   "name": "python3"
  },
  "language_info": {
   "codemirror_mode": {
    "name": "ipython",
    "version": 3
   },
   "file_extension": ".py",
   "mimetype": "text/x-python",
   "name": "python",
   "nbconvert_exporter": "python",
   "pygments_lexer": "ipython3",
   "version": "3.13.3"
  }
 },
 "nbformat": 4,
 "nbformat_minor": 5
}
